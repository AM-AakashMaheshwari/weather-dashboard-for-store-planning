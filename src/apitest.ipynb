{
 "cells": [
  {
   "cell_type": "code",
   "execution_count": 4,
   "id": "79190da8",
   "metadata": {},
   "outputs": [],
   "source": [
    "import requests\n",
    "import os\n",
    "import pandas as pd"
   ]
  },
  {
   "cell_type": "code",
   "execution_count": 5,
   "id": "8a35cbb3",
   "metadata": {},
   "outputs": [
    {
     "name": "stdout",
     "output_type": "stream",
     "text": [
      "✅ API call success!\n",
      "Raw JSON response:\n",
      "{'coord': {'lon': 77.2167, 'lat': 28.6667}, 'weather': [{'id': 802, 'main': 'Clouds', 'description': 'scattered clouds', 'icon': '03d'}], 'base': 'stations', 'main': {'temp': 35.05, 'feels_like': 39.29, 'temp_min': 35.05, 'temp_max': 35.05, 'pressure': 1002, 'humidity': 46, 'sea_level': 1002, 'grnd_level': 977}, 'visibility': 6000, 'wind': {'speed': 2.57, 'deg': 280}, 'clouds': {'all': 40}, 'dt': 1758015684, 'sys': {'type': 1, 'id': 9165, 'country': 'IN', 'sunrise': 1757982993, 'sunset': 1758027346}, 'timezone': 19800, 'id': 1273294, 'name': 'Delhi', 'cod': 200}\n"
     ]
    }
   ],
   "source": [
    "BASE_URL = \"https://api.openweathermap.org/data/2.5/weather\"\n",
    "params = {\n",
    "    \"q\": \"Delhi\",       # city name\n",
    "    \"appid\": \"3075090bd75d8be004e42fa76f6e6fe7\",   # your key\n",
    "    \"units\": \"metric\"   # Celsius\n",
    "}\n",
    "\n",
    "# Step 3: Send GET request\n",
    "response = requests.get(BASE_URL, params=params, timeout=10)\n",
    "\n",
    "# Step 4: Check success or failure\n",
    "if response.status_code != 200:\n",
    "    print(\"❌ API call failed:\", response.status_code, response.text)\n",
    "else:\n",
    "    data = response.json()\n",
    "    print(\"✅ API call success!\")\n",
    "    print(\"Raw JSON response:\")\n",
    "    print(data)"
   ]
  }
 ],
 "metadata": {
  "kernelspec": {
   "display_name": "wd.venv (3.12.0)",
   "language": "python",
   "name": "python3"
  },
  "language_info": {
   "codemirror_mode": {
    "name": "ipython",
    "version": 3
   },
   "file_extension": ".py",
   "mimetype": "text/x-python",
   "name": "python",
   "nbconvert_exporter": "python",
   "pygments_lexer": "ipython3",
   "version": "3.12.0b4"
  }
 },
 "nbformat": 4,
 "nbformat_minor": 5
}
